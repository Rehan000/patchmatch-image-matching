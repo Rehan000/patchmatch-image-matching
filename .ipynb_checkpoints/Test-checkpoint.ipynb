{
 "cells": [
  {
   "cell_type": "code",
   "execution_count": 4,
   "id": "274a313c-9ada-4bd2-a176-e62a81bce86c",
   "metadata": {},
   "outputs": [],
   "source": [
    "import cv2\n",
    "from modules.patchmatch import PatchMatch"
   ]
  },
  {
   "cell_type": "code",
   "execution_count": 5,
   "id": "711e6c94-37fd-4465-a685-319ba74fca74",
   "metadata": {},
   "outputs": [
    {
     "ename": "ValueError",
     "evalue": "Could not open '/home/rehan/PycharmProjects/models/tflite_model/PatchMatch_TFLite.tflite'.",
     "output_type": "error",
     "traceback": [
      "\u001b[0;31m---------------------------------------------------------------------------\u001b[0m",
      "\u001b[0;31mValueError\u001b[0m                                Traceback (most recent call last)",
      "Cell \u001b[0;32mIn[5], line 4\u001b[0m\n\u001b[1;32m      1\u001b[0m image_1 \u001b[38;5;241m=\u001b[39m cv2\u001b[38;5;241m.\u001b[39mcvtColor(cv2\u001b[38;5;241m.\u001b[39mimread(\u001b[38;5;124m\"\u001b[39m\u001b[38;5;124m/home/rehan/SuperGluePretrainedNetwork/assets/scannet_sample_images/scene0711_00_frame-001680.jpg\u001b[39m\u001b[38;5;124m\"\u001b[39m), cv2\u001b[38;5;241m.\u001b[39mCOLOR_BGR2RGB)\n\u001b[1;32m      2\u001b[0m image_2 \u001b[38;5;241m=\u001b[39m cv2\u001b[38;5;241m.\u001b[39mcvtColor(cv2\u001b[38;5;241m.\u001b[39mimread(\u001b[38;5;124m\"\u001b[39m\u001b[38;5;124m/home/rehan/SuperGluePretrainedNetwork/assets/scannet_sample_images/scene0711_00_frame-001995.jpg\u001b[39m\u001b[38;5;124m\"\u001b[39m), cv2\u001b[38;5;241m.\u001b[39mCOLOR_BGR2RGB)\n\u001b[0;32m----> 4\u001b[0m pm \u001b[38;5;241m=\u001b[39m PatchMatch(num_features\u001b[38;5;241m=\u001b[39m\u001b[38;5;241m1000\u001b[39m, match_feature\u001b[38;5;241m=\u001b[39m\u001b[38;5;124m'\u001b[39m\u001b[38;5;124mORB\u001b[39m\u001b[38;5;124m'\u001b[39m)\n\u001b[1;32m      5\u001b[0m pts_1, pts_2 \u001b[38;5;241m=\u001b[39m pm\u001b[38;5;241m.\u001b[39mmatch_two_images(image_1, image_2)\n",
      "File \u001b[0;32m~/PycharmProjects/PatchMatch/modules/patchmatch.py:36\u001b[0m, in \u001b[0;36mPatchMatch.__init__\u001b[0;34m(self, tflite_model, num_features, patch_size, match_feature, k, model_confidence)\u001b[0m\n\u001b[1;32m     34\u001b[0m \u001b[38;5;28mself\u001b[39m\u001b[38;5;241m.\u001b[39mk \u001b[38;5;241m=\u001b[39m k\n\u001b[1;32m     35\u001b[0m \u001b[38;5;28mself\u001b[39m\u001b[38;5;241m.\u001b[39mmodel_confidence \u001b[38;5;241m=\u001b[39m model_confidence\n\u001b[0;32m---> 36\u001b[0m \u001b[38;5;28mself\u001b[39m\u001b[38;5;241m.\u001b[39mtflite_model \u001b[38;5;241m=\u001b[39m \u001b[38;5;28mself\u001b[39m\u001b[38;5;241m.\u001b[39mload_tflite_model()\n",
      "File \u001b[0;32m~/PycharmProjects/PatchMatch/modules/patchmatch.py:42\u001b[0m, in \u001b[0;36mPatchMatch.load_tflite_model\u001b[0;34m(self)\u001b[0m\n\u001b[1;32m     38\u001b[0m \u001b[38;5;28;01mdef\u001b[39;00m \u001b[38;5;21mload_tflite_model\u001b[39m(\u001b[38;5;28mself\u001b[39m):\n\u001b[1;32m     39\u001b[0m \u001b[38;5;250m    \u001b[39m\u001b[38;5;124;03m\"\"\"\u001b[39;00m\n\u001b[1;32m     40\u001b[0m \u001b[38;5;124;03m    Loads TFLite model.\u001b[39;00m\n\u001b[1;32m     41\u001b[0m \u001b[38;5;124;03m    \"\"\"\u001b[39;00m\n\u001b[0;32m---> 42\u001b[0m     interpreter \u001b[38;5;241m=\u001b[39m tf\u001b[38;5;241m.\u001b[39mlite\u001b[38;5;241m.\u001b[39mInterpreter(model_path\u001b[38;5;241m=\u001b[39m\u001b[38;5;28mself\u001b[39m\u001b[38;5;241m.\u001b[39mtflite_model_path, num_threads\u001b[38;5;241m=\u001b[39mmultiprocessing\u001b[38;5;241m.\u001b[39mcpu_count())\n\u001b[1;32m     43\u001b[0m     input_details \u001b[38;5;241m=\u001b[39m interpreter\u001b[38;5;241m.\u001b[39mget_input_details()\n\u001b[1;32m     44\u001b[0m     output_details \u001b[38;5;241m=\u001b[39m interpreter\u001b[38;5;241m.\u001b[39mget_output_details()\n",
      "File \u001b[0;32m~/anaconda3/envs/patchmatchenv/lib/python3.11/site-packages/tensorflow/lite/python/interpreter.py:464\u001b[0m, in \u001b[0;36mInterpreter.__init__\u001b[0;34m(self, model_path, model_content, experimental_delegates, num_threads, experimental_op_resolver_type, experimental_preserve_all_tensors, experimental_disable_delegate_clustering)\u001b[0m\n\u001b[1;32m    458\u001b[0m custom_op_registerers_by_name \u001b[38;5;241m=\u001b[39m [\n\u001b[1;32m    459\u001b[0m     x \u001b[38;5;28;01mfor\u001b[39;00m x \u001b[38;5;129;01min\u001b[39;00m \u001b[38;5;28mself\u001b[39m\u001b[38;5;241m.\u001b[39m_custom_op_registerers \u001b[38;5;28;01mif\u001b[39;00m \u001b[38;5;28misinstance\u001b[39m(x, \u001b[38;5;28mstr\u001b[39m)\n\u001b[1;32m    460\u001b[0m ]\n\u001b[1;32m    461\u001b[0m custom_op_registerers_by_func \u001b[38;5;241m=\u001b[39m [\n\u001b[1;32m    462\u001b[0m     x \u001b[38;5;28;01mfor\u001b[39;00m x \u001b[38;5;129;01min\u001b[39;00m \u001b[38;5;28mself\u001b[39m\u001b[38;5;241m.\u001b[39m_custom_op_registerers \u001b[38;5;28;01mif\u001b[39;00m \u001b[38;5;129;01mnot\u001b[39;00m \u001b[38;5;28misinstance\u001b[39m(x, \u001b[38;5;28mstr\u001b[39m)\n\u001b[1;32m    463\u001b[0m ]\n\u001b[0;32m--> 464\u001b[0m \u001b[38;5;28mself\u001b[39m\u001b[38;5;241m.\u001b[39m_interpreter \u001b[38;5;241m=\u001b[39m _interpreter_wrapper\u001b[38;5;241m.\u001b[39mCreateWrapperFromFile(\n\u001b[1;32m    465\u001b[0m     model_path,\n\u001b[1;32m    466\u001b[0m     op_resolver_id,\n\u001b[1;32m    467\u001b[0m     custom_op_registerers_by_name,\n\u001b[1;32m    468\u001b[0m     custom_op_registerers_by_func,\n\u001b[1;32m    469\u001b[0m     experimental_preserve_all_tensors,\n\u001b[1;32m    470\u001b[0m     experimental_disable_delegate_clustering,\n\u001b[1;32m    471\u001b[0m )\n\u001b[1;32m    472\u001b[0m \u001b[38;5;28;01mif\u001b[39;00m \u001b[38;5;129;01mnot\u001b[39;00m \u001b[38;5;28mself\u001b[39m\u001b[38;5;241m.\u001b[39m_interpreter:\n\u001b[1;32m    473\u001b[0m   \u001b[38;5;28;01mraise\u001b[39;00m \u001b[38;5;167;01mValueError\u001b[39;00m(\u001b[38;5;124m'\u001b[39m\u001b[38;5;124mFailed to open \u001b[39m\u001b[38;5;132;01m{}\u001b[39;00m\u001b[38;5;124m'\u001b[39m\u001b[38;5;241m.\u001b[39mformat(model_path))\n",
      "\u001b[0;31mValueError\u001b[0m: Could not open '/home/rehan/PycharmProjects/models/tflite_model/PatchMatch_TFLite.tflite'."
     ]
    }
   ],
   "source": [
    "image_1 = cv2.cvtColor(cv2.imread(\"/home/rehan/SuperGluePretrainedNetwork/assets/scannet_sample_images/scene0711_00_frame-001680.jpg\"), cv2.COLOR_BGR2RGB)\n",
    "image_2 = cv2.cvtColor(cv2.imread(\"/home/rehan/SuperGluePretrainedNetwork/assets/scannet_sample_images/scene0711_00_frame-001995.jpg\"), cv2.COLOR_BGR2RGB)\n",
    "\n",
    "pm = PatchMatch(num_features=1000, match_feature='ORB')\n",
    "pts_1, pts_2 = pm.match_two_images(image_1, image_2)"
   ]
  },
  {
   "cell_type": "code",
   "execution_count": null,
   "id": "a5c47188-22cf-4f66-9388-4b5aa00d7387",
   "metadata": {},
   "outputs": [],
   "source": []
  }
 ],
 "metadata": {
  "kernelspec": {
   "display_name": "Python 3 (ipykernel)",
   "language": "python",
   "name": "python3"
  },
  "language_info": {
   "codemirror_mode": {
    "name": "ipython",
    "version": 3
   },
   "file_extension": ".py",
   "mimetype": "text/x-python",
   "name": "python",
   "nbconvert_exporter": "python",
   "pygments_lexer": "ipython3",
   "version": "3.11.9"
  }
 },
 "nbformat": 4,
 "nbformat_minor": 5
}
