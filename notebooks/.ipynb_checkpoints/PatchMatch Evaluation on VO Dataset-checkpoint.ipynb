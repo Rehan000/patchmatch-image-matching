{
 "cells": [
  {
   "cell_type": "markdown",
   "id": "122a5ac1-e555-437e-a827-9610d330b61a",
   "metadata": {},
   "source": [
    "# PatchMatch Evaluation on VO (Visual Odometry) Dataset"
   ]
  },
  {
   "cell_type": "markdown",
   "id": "ea4d52cf-46c3-4f03-b9c3-8a8d99c53d68",
   "metadata": {},
   "source": [
    "### Import Required Libraries and Packages"
   ]
  },
  {
   "cell_type": "code",
   "execution_count": 9,
   "id": "d6b6c321-5180-42f1-a378-b9c1b799e20b",
   "metadata": {},
   "outputs": [],
   "source": [
    "import os\n",
    "import glob\n",
    "import sys\n",
    "import cv2\n",
    "import numpy as np\n",
    "import matplotlib.pyplot as plt\n",
    "from PIL import Image"
   ]
  },
  {
   "cell_type": "code",
   "execution_count": 2,
   "id": "e11164ca-3458-468d-9933-d1494a98c597",
   "metadata": {},
   "outputs": [],
   "source": [
    "module_path = os.path.abspath(os.path.join('..', 'modules'))\n",
    "\n",
    "if module_path not in sys.path:\n",
    "    sys.path.append(module_path)"
   ]
  },
  {
   "cell_type": "code",
   "execution_count": 3,
   "id": "54332181-a3c5-4c37-a33b-f5ac76a8655d",
   "metadata": {},
   "outputs": [],
   "source": [
    "from patchmatch import PatchMatch"
   ]
  },
  {
   "cell_type": "markdown",
   "id": "ed7aa73c-eb9e-4ccf-bb74-962c65406079",
   "metadata": {},
   "source": [
    "### ORB Matching Pipeline Evaluation"
   ]
  },
  {
   "cell_type": "code",
   "execution_count": 26,
   "id": "633da60e-0b6b-4829-b2e4-444c49b64e47",
   "metadata": {},
   "outputs": [],
   "source": [
    "folder_path = os.path.abspath(os.path.join('..', 'media/sequence_50/images'))\n",
    "image_files = [f for f in os.listdir(folder_path) if os.path.isfile(os.path.join(folder_path, f))]\n",
    "image_files.sort()\n",
    "\n",
    "image_pairs = []\n",
    "for i in range(200): # len(image_files) - 1):\n",
    "    img1_path = os.path.join(folder_path, image_files[i])\n",
    "    image_1 = cv2.imread(img1_path)\n",
    "    image_1_gray = cv2.cvtColor(image_1, cv2.COLOR_BGR2GRAY)\n",
    "        \n",
    "    img2_path = os.path.join(folder_path, image_files[i + 1])\n",
    "    image_2 = cv2.imread(img2_path)\n",
    "    image_2_gray = cv2.cvtColor(image_2, cv2.COLOR_BGR2GRAY)\n",
    "\n",
    "    orb = cv2.ORB_create(nfeatures=1000)\n",
    "    keypoints1, descriptors1 = orb.detectAndCompute(image_1_gray, None)\n",
    "    keypoints2, descriptors2 = orb.detectAndCompute(image_2_gray, None)\n",
    "\n",
    "    bf = cv2.BFMatcher(cv2.NORM_HAMMING, crossCheck=True)\n",
    "\n",
    "    matches = bf.match(descriptors1, descriptors2)\n",
    "\n",
    "    matches = sorted(matches, key = lambda x:x.distance)\n",
    "\n",
    "    points1 = []\n",
    "    points2 = []\n",
    "\n",
    "    for match in matches:\n",
    "        points1.append(keypoints1[match.queryIdx].pt)\n",
    "        points2.append(keypoints2[match.trainIdx].pt)\n",
    "\n",
    "    points1 = np.array(points1, dtype=np.int32)\n",
    "    points2 = np.array(points2, dtype=np.int32)\n",
    "\n",
    "    fundamental_matrix, inliers = cv2.findFundamentalMat(points1, points2, method=cv2.FM_RANSAC, ransacReprojThreshold=1.0, confidence=0.99)\n",
    "\n",
    "    inliers = inliers.ravel().astype(bool)\n",
    "    points1 = points1[inliers]\n",
    "    points2 = points2[inliers]\n",
    "\n",
    "    combined_image = np.hstack((image_1, image_2))\n",
    "\n",
    "    for index in range(len(points1)):\n",
    "        cv2.line(combined_image, (points1[index][0], points1[index][1]), (points2[index][0] + image_1.shape[1],  points2[index][1]), (0, 255, 0), 1)\n",
    "\n",
    "    cv2.putText(combined_image, f'ORB Matching Pipeline', (20, 60), cv2.FONT_HERSHEY_SIMPLEX, 2, (0, 0, 0), 4, cv2.LINE_AA)\n",
    "    cv2.putText(combined_image, f'Number of Matches: {len(points1)}', (20, 130), cv2.FONT_HERSHEY_SIMPLEX, 2, (0, 0, 0), 4, cv2.LINE_AA)\n",
    "    \n",
    "    plt.figure(figsize=(14, 8))\n",
    "    plt.imshow(combined_image)\n",
    "    plt.axis('off')\n",
    "    plt.savefig(os.path.abspath(os.path.join('..', f'media/sequence_50/matching/orb/orb_{i}.png')), bbox_inches='tight', pad_inches=0)\n",
    "    # plt.show()\n",
    "    plt.close()"
   ]
  },
  {
   "cell_type": "markdown",
   "id": "6cf38cdb-11ea-4af2-bdab-fd97bb13b11d",
   "metadata": {},
   "source": [
    "### PatchMatch Pipeline Evaluation"
   ]
  },
  {
   "cell_type": "code",
   "execution_count": 29,
   "id": "e2fa1c9c-0433-4034-9989-753b0be4601d",
   "metadata": {},
   "outputs": [
    {
     "name": "stderr",
     "output_type": "stream",
     "text": [
      "INFO: Created TensorFlow Lite XNNPACK delegate for CPU.\n"
     ]
    }
   ],
   "source": [
    "folder_path = os.path.abspath(os.path.join('..', 'media/sequence_50/images'))\n",
    "image_files = [f for f in os.listdir(folder_path) if os.path.isfile(os.path.join(folder_path, f))]\n",
    "image_files.sort()\n",
    "\n",
    "image_pairs = []\n",
    "for i in range(200): # len(image_files) - 1):\n",
    "    img1_path = os.path.join(folder_path, image_files[i])\n",
    "    image_1 = cv2.imread(img1_path)\n",
    "        \n",
    "    img2_path = os.path.join(folder_path, image_files[i + 1])\n",
    "    image_2 = cv2.imread(img2_path)\n",
    "\n",
    "    pm = PatchMatch(match_feature='ORB', num_features=1000)\n",
    "    points1, points2 = pm.match_two_images(image_1, image_2)\n",
    "\n",
    "    fundamental_matrix, inliers = cv2.findFundamentalMat(points1, points2, method=cv2.FM_RANSAC, ransacReprojThreshold=1.0, confidence=0.99)\n",
    "\n",
    "    inliers = inliers.ravel().astype(bool)\n",
    "    points1 = points1[inliers]\n",
    "    points2 = points2[inliers]\n",
    "\n",
    "    combined_image = np.hstack((image_1, image_2))\n",
    "\n",
    "    for index in range(len(points1)):\n",
    "        cv2.line(combined_image, (points1[index][0], points1[index][1]), (points2[index][0] + image_1.shape[1],  points2[index][1]), (0, 255, 0), 1)\n",
    "\n",
    "    cv2.putText(combined_image, f'PatchMatch (ORB) Matching Pipeline', (20, 60), cv2.FONT_HERSHEY_SIMPLEX, 2, (0, 0, 0), 4, cv2.LINE_AA)\n",
    "    cv2.putText(combined_image, f'Number of Matches: {len(points1)}', (20, 130), cv2.FONT_HERSHEY_SIMPLEX, 2, (0, 0, 0), 4, cv2.LINE_AA)\n",
    "    \n",
    "    plt.figure(figsize=(14, 8))\n",
    "    plt.imshow(combined_image)\n",
    "    plt.axis('off')\n",
    "    plt.savefig(os.path.abspath(os.path.join('..', f'media/sequence_50/matching/patchmatch/patchmatch_{i}.png')), bbox_inches='tight', pad_inches=0)\n",
    "    # plt.show()\n",
    "    plt.close()"
   ]
  },
  {
   "cell_type": "markdown",
   "id": "456c9852-7e24-42a6-ac59-78aa06ecf423",
   "metadata": {},
   "source": [
    "### Create GIF from Matching Sequences"
   ]
  },
  {
   "cell_type": "code",
   "execution_count": 33,
   "id": "ae823525-6d78-42b1-889d-1ca5d77068aa",
   "metadata": {},
   "outputs": [],
   "source": [
    "def make_gif(frame_folder):\n",
    "    image_files = [f for f in os.listdir(frame_folder) if os.path.isfile(os.path.join(frame_folder, f))]\n",
    "    image_files.sort()\n",
    "    \n",
    "    frames = [Image.open(os.path.join(frame_folder, image_path)) for image_path in image_files]\n",
    "    \n",
    "    frame_one = frames[0]\n",
    "    frame_one.save(os.path.abspath(os.path.join('..', f'media/patchmatch.gif')), format=\"GIF\", append_images=frames,\n",
    "                   save_all=True, duration=100, loop=0)"
   ]
  },
  {
   "cell_type": "code",
   "execution_count": 32,
   "id": "e98ed8e5-6140-4263-be9e-3f4853ff5bf0",
   "metadata": {},
   "outputs": [],
   "source": [
    "make_gif(os.path.abspath(os.path.join('..', f'media/sequence_50/matching/orb')))"
   ]
  },
  {
   "cell_type": "code",
   "execution_count": 34,
   "id": "b6cf1619-eb3e-42a2-8369-dfec0915bc8c",
   "metadata": {},
   "outputs": [],
   "source": [
    "make_gif(os.path.abspath(os.path.join('..', f'media/sequence_50/matching/patchmatch')))"
   ]
  },
  {
   "cell_type": "code",
   "execution_count": null,
   "id": "30f7fd60-4aac-4ff7-a245-0654ff2a7fce",
   "metadata": {},
   "outputs": [],
   "source": []
  }
 ],
 "metadata": {
  "kernelspec": {
   "display_name": "Python 3 (ipykernel)",
   "language": "python",
   "name": "python3"
  },
  "language_info": {
   "codemirror_mode": {
    "name": "ipython",
    "version": 3
   },
   "file_extension": ".py",
   "mimetype": "text/x-python",
   "name": "python",
   "nbconvert_exporter": "python",
   "pygments_lexer": "ipython3",
   "version": "3.11.9"
  }
 },
 "nbformat": 4,
 "nbformat_minor": 5
}
